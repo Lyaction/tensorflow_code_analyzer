{
 "cells": [
  {
   "cell_type": "code",
   "execution_count": 2,
   "metadata": {},
   "outputs": [],
   "source": [
    "import tensorflow as tf\n",
    "from tensorflow.python.ops import variable_scope"
   ]
  },
  {
   "cell_type": "code",
   "execution_count": 3,
   "metadata": {
    "collapsed": true,
    "jupyter": {
     "outputs_hidden": true
    }
   },
   "outputs": [],
   "source": [
    "tf.enable_eager_execution()"
   ]
  },
  {
   "cell_type": "code",
   "execution_count": 4,
   "metadata": {},
   "outputs": [
    {
     "name": "stdout",
     "output_type": "stream",
     "text": [
      "tf.Tensor(\n",
      "[b'21|90,24,46|;31,24|42|56;63||46' b'54|84;98|;78|83,36,89'\n",
      " b'12,58,12;;83,24'], shape=(3,), dtype=string)\n"
     ]
    }
   ],
   "source": [
    "csv = [\"21|90,24,46|;31,24|42|56;63||46\", \"54|84;98|;78|83,36,89\", \"12,58,12;;83,24\"]\n",
    "slot_name = [\"ad_clk-slot_1\", \"ad_clk-slot_2\", \"ad_clk-slot_3\"]\n",
    "batch_size, seq_length, slot_num = 3, 4, 3\n",
    "sample = tf.constant(csv)\n",
    "print(sample)"
   ]
  },
  {
   "cell_type": "code",
   "execution_count": 7,
   "metadata": {},
   "outputs": [
    {
     "name": "stdout",
     "output_type": "stream",
     "text": [
      "[<tf.Tensor: id=24, shape=(3,), dtype=string, numpy=array([b'21|90,24,46|', b'54|84', b'12,58,12'], dtype=object)>, <tf.Tensor: id=25, shape=(3,), dtype=string, numpy=array([b'31,24|42|56', b'98|', b''], dtype=object)>, <tf.Tensor: id=26, shape=(3,), dtype=string, numpy=array([b'63||46', b'78|83,36,89', b'83,24'], dtype=object)>]\n",
      "[<tf.Tensor: id=33, shape=(3,), dtype=string, numpy=array([b'21|90,24,46|', b'54|84', b'12,58,12'], dtype=object)>, <tf.Tensor: id=34, shape=(3,), dtype=string, numpy=array([b'31,24|42|56', b'98|', b''], dtype=object)>, <tf.Tensor: id=35, shape=(3,), dtype=string, numpy=array([b'63||46', b'78|83,36,89', b'83,24'], dtype=object)>]\n"
     ]
    }
   ],
   "source": [
    "batch_size, seq_length, slot_num = 3, 4, 3\n",
    "slot_feas = tf.decode_csv(sample, [[\"\"]]*slot_num, \";\")\n",
    "print(slot_feas)\n",
    "slot_feas = tf.decode_csv(sample, [\"\"]*slot_num, \";\")\n",
    "print(slot_feas)"
   ]
  },
  {
   "cell_type": "code",
   "execution_count": null,
   "metadata": {},
   "outputs": [],
   "source": [
    "batch_size, seq_length, slot_num = 3, 4, 3\n",
    "slot_feas = tf.decode_csv(sample, [\"\"]*slot_num, \";\")\n",
    "print(slot_feas)\n",
    "outer_sparse_feas = {}\n",
    "for name, slot_seq in zip(slot_name, slot_feas):\n",
    "    slot_fea = tf.string_split(slot_seq, \"|\", False)\n",
    "    total_string = tf.reshape(tf.sparse_to_dense(slot_fea.indices, [batch_size, seq_length], slot_fea.values, \"\"), [batch_size*seq_length])\n",
    "    print(total_string)\n",
    "    sparse_string = tf.string_split(total_string, \",\", False)\n",
    "    print(sparse_string)\n",
    "    sparse_value = tf.string_to_number(sparse_string.values, out_type=tf.int64)\n",
    "    outer_sparse_feas[name] = tf.SparseTensor(sparse_string.indices, sparse_value, sparse_string.dense_shape)\n",
    "print(outer_sparse_feas)"
   ]
  },
  {
   "cell_type": "code",
   "execution_count": 50,
   "metadata": {},
   "outputs": [
    {
     "name": "stdout",
     "output_type": "stream",
     "text": [
      "<tf.Variable 'v1:0' shape=(2,) dtype=int32, numpy=array([0, 0], dtype=int32)> <tf.Variable 'test/v1:0' shape=(2,) dtype=int32, numpy=array([0, 0], dtype=int32)> <tf.Variable 'test/v1:0' shape=(2,) dtype=int32, numpy=array([0, 0], dtype=int32)>\n"
     ]
    }
   ],
   "source": [
    "x=tf.constant(\"1\")\n",
    "v2=tf.get_variable(\"v1\", [2], tf.int32)\n",
    "with tf.variable_scope(\"test\"):\n",
    "    v1=tf.get_variable(\"v1\", [2], tf.int32)\n",
    "    tf.get_variable(\"v2\", [2], tf.int32)\n",
    "    v3=tf.get_variable(\"v1\", [2], tf.int32)\n",
    "#print(x.name)\n",
    "#print(tf.get_default_graph().get_tensor_by_name(v2.name))\n",
    "print(v2,v1,v3)"
   ]
  },
  {
   "cell_type": "code",
   "execution_count": 103,
   "metadata": {},
   "outputs": [],
   "source": [
    "colum = tf.feature_column.categorical_column_with_identity(\"ad_clk_slot_1\", 100, 0)\n",
    "feature_cloumn = tf.feature_column.embedding_column(colum, 10)\n",
    "colum2 = tf.feature_column.categorical_column_with_identity(\"ad_clk_slot_2\", 100, 0)\n",
    "feature_cloumn2 = tf.feature_column.embedding_column(colum2, 10)\n",
    "indicator_column = tf.feature_column.indicator_column(colum)"
   ]
  },
  {
   "cell_type": "code",
   "execution_count": 104,
   "metadata": {
    "scrolled": true
   },
   "outputs": [
    {
     "name": "stdout",
     "output_type": "stream",
     "text": [
      "SparseTensor(indices=tf.Tensor(\n",
      "[[0 0]\n",
      " [1 0]\n",
      " [1 1]\n",
      " [1 2]\n",
      " [4 0]\n",
      " [5 0]\n",
      " [8 0]\n",
      " [8 1]\n",
      " [8 2]], shape=(9, 2), dtype=int64), values=tf.Tensor([21 90 24 46 54 84 12 58 12], shape=(9,), dtype=int64), dense_shape=tf.Tensor([12  3], shape=(2,), dtype=int64))\n"
     ]
    },
    {
     "data": {
      "text/plain": [
       "<tf.Tensor: id=3198, shape=(12, 20), dtype=float32, numpy=\n",
       "array([[-0.04545068,  0.09263412, -0.21177691, -0.28413165, -0.09922945,\n",
       "         0.08395215,  0.0576439 , -0.17468515,  0.16587205,  0.02918471,\n",
       "         0.03127137,  0.14813533,  0.02666359, -0.19582944, -0.29743418,\n",
       "        -0.13055468,  0.11694263, -0.05274741,  0.06934261,  0.15968838],\n",
       "       [ 0.20044976,  0.23493136, -0.08263146,  0.19873142,  0.04860223,\n",
       "         0.03680925, -0.14367378,  0.09496699,  0.00830158, -0.07238144,\n",
       "         0.48050833, -0.17279343, -0.00837831,  0.25290513,  0.06340476,\n",
       "        -0.18634628, -0.04697398,  0.23448141, -0.12693545,  0.48568743],\n",
       "       [ 0.        ,  0.        ,  0.        ,  0.        ,  0.        ,\n",
       "         0.        ,  0.        ,  0.        ,  0.        ,  0.        ,\n",
       "         0.11217245, -0.48398498, -0.04098111,  0.31399626,  0.27900553,\n",
       "         0.52005559,  0.48375809, -0.11371475, -0.17020144,  0.00897419],\n",
       "       [ 0.        ,  0.        ,  0.        ,  0.        ,  0.        ,\n",
       "         0.        ,  0.        ,  0.        ,  0.        ,  0.        ,\n",
       "         0.        ,  0.        ,  0.        ,  0.        ,  0.        ,\n",
       "         0.        ,  0.        ,  0.        ,  0.        ,  0.        ],\n",
       "       [-0.08899612,  0.14598443,  0.11064183,  0.09669948, -0.19700342,\n",
       "         0.18433647, -0.02541183,  0.12723671,  0.23798846, -0.39962184,\n",
       "        -0.55510318,  0.17944355,  0.23295321,  0.24362794, -0.36489499,\n",
       "        -0.16471982, -0.26098943, -0.00575523,  0.39718136,  0.45305371],\n",
       "       [-0.05440038, -0.02045684, -0.31459647,  0.03708345, -0.15887037,\n",
       "         0.03092489,  0.0743569 , -0.15577061,  0.05176496,  0.21144018,\n",
       "         0.        ,  0.        ,  0.        ,  0.        ,  0.        ,\n",
       "         0.        ,  0.        ,  0.        ,  0.        ,  0.        ],\n",
       "       [ 0.        ,  0.        ,  0.        ,  0.        ,  0.        ,\n",
       "         0.        ,  0.        ,  0.        ,  0.        ,  0.        ,\n",
       "         0.        ,  0.        ,  0.        ,  0.        ,  0.        ,\n",
       "         0.        ,  0.        ,  0.        ,  0.        ,  0.        ],\n",
       "       [ 0.        ,  0.        ,  0.        ,  0.        ,  0.        ,\n",
       "         0.        ,  0.        ,  0.        ,  0.        ,  0.        ,\n",
       "         0.        ,  0.        ,  0.        ,  0.        ,  0.        ,\n",
       "         0.        ,  0.        ,  0.        ,  0.        ,  0.        ],\n",
       "       [-0.0515435 , -0.20567285, -0.17807798, -0.07206026,  0.10811215,\n",
       "         0.03108638,  0.46639481,  0.42918098, -0.15415592,  0.02434528,\n",
       "         0.        ,  0.        ,  0.        ,  0.        ,  0.        ,\n",
       "         0.        ,  0.        ,  0.        ,  0.        ,  0.        ],\n",
       "       [ 0.        ,  0.        ,  0.        ,  0.        ,  0.        ,\n",
       "         0.        ,  0.        ,  0.        ,  0.        ,  0.        ,\n",
       "         0.        ,  0.        ,  0.        ,  0.        ,  0.        ,\n",
       "         0.        ,  0.        ,  0.        ,  0.        ,  0.        ],\n",
       "       [ 0.        ,  0.        ,  0.        ,  0.        ,  0.        ,\n",
       "         0.        ,  0.        ,  0.        ,  0.        ,  0.        ,\n",
       "         0.        ,  0.        ,  0.        ,  0.        ,  0.        ,\n",
       "         0.        ,  0.        ,  0.        ,  0.        ,  0.        ],\n",
       "       [ 0.        ,  0.        ,  0.        ,  0.        ,  0.        ,\n",
       "         0.        ,  0.        ,  0.        ,  0.        ,  0.        ,\n",
       "         0.        ,  0.        ,  0.        ,  0.        ,  0.        ,\n",
       "         0.        ,  0.        ,  0.        ,  0.        ,  0.        ]], dtype=float32)>"
      ]
     },
     "execution_count": 104,
     "metadata": {},
     "output_type": "execute_result"
    }
   ],
   "source": [
    "print(outer_sparse_feas[\"ad_clk-slot_1\"])\n",
    "tf.feature_column.input_layer({\"ad_clk_slot_1\":outer_sparse_feas[\"ad_clk-slot_1\"], \"ad_clk_slot_2\":outer_sparse_feas[\"ad_clk-slot_2\"]}, [feature_cloumn, feature_cloumn2])\n",
    "#tf.feature_column.input_layer({\"ad_clk_slot_1\":outer_sparse_feas[\"ad_clk-slot_1\"]}, [indicator_column])[1]"
   ]
  },
  {
   "cell_type": "code",
   "execution_count": 69,
   "metadata": {},
   "outputs": [
    {
     "name": "stdout",
     "output_type": "stream",
     "text": [
      "SparseTensor(indices=tf.Tensor(\n",
      "[[0 0]\n",
      " [1 0]\n",
      " [1 1]\n",
      " [1 2]\n",
      " [4 0]\n",
      " [5 0]\n",
      " [8 0]\n",
      " [8 1]\n",
      " [8 2]], shape=(9, 2), dtype=int64), values=tf.Tensor([321  90  24  46  54  84 412 548  12], shape=(9,), dtype=int64), dense_shape=tf.Tensor([12  3], shape=(2,), dtype=int64))\n"
     ]
    },
    {
     "data": {
      "text/plain": [
       "<tf.Tensor: id=1905, shape=(12, 10), dtype=float32, numpy=\n",
       "array([[ 0.52254075, -0.02677039, -0.08395325,  0.06128124, -0.31251341,\n",
       "         0.42425579,  0.0705861 , -0.05156358,  0.3776598 ,  0.31427813],\n",
       "       [ 0.10741454, -0.27143222, -0.16021368, -0.03774109,  0.04317988,\n",
       "         0.04162496, -0.02815527,  0.0819087 ,  0.11332647, -0.16410284],\n",
       "       [ 0.        ,  0.        ,  0.        ,  0.        ,  0.        ,\n",
       "         0.        ,  0.        ,  0.        ,  0.        ,  0.        ],\n",
       "       [ 0.        ,  0.        ,  0.        ,  0.        ,  0.        ,\n",
       "         0.        ,  0.        ,  0.        ,  0.        ,  0.        ],\n",
       "       [ 0.31245029,  0.01536097,  0.173768  ,  0.01731536, -0.14887927,\n",
       "        -0.10974558,  0.47252876, -0.02163495, -0.35377961,  0.01994451],\n",
       "       [ 0.25287259,  0.31501347, -0.08505826,  0.35081163, -0.22504589,\n",
       "         0.45057985,  0.37342882, -0.19483744,  0.10163494,  0.16682829],\n",
       "       [ 0.        ,  0.        ,  0.        ,  0.        ,  0.        ,\n",
       "         0.        ,  0.        ,  0.        ,  0.        ,  0.        ],\n",
       "       [ 0.        ,  0.        ,  0.        ,  0.        ,  0.        ,\n",
       "         0.        ,  0.        ,  0.        ,  0.        ,  0.        ],\n",
       "       [ 0.07059944, -0.04560975, -0.13031928,  0.01821022, -0.16388817,\n",
       "        -0.02393439,  0.15439868,  0.37571001, -0.16657726, -0.43862036],\n",
       "       [ 0.        ,  0.        ,  0.        ,  0.        ,  0.        ,\n",
       "         0.        ,  0.        ,  0.        ,  0.        ,  0.        ],\n",
       "       [ 0.        ,  0.        ,  0.        ,  0.        ,  0.        ,\n",
       "         0.        ,  0.        ,  0.        ,  0.        ,  0.        ],\n",
       "       [ 0.        ,  0.        ,  0.        ,  0.        ,  0.        ,\n",
       "         0.        ,  0.        ,  0.        ,  0.        ,  0.        ]], dtype=float32)>"
      ]
     },
     "execution_count": 69,
     "metadata": {},
     "output_type": "execute_result"
    }
   ],
   "source": []
  },
  {
   "cell_type": "code",
   "execution_count": 96,
   "metadata": {},
   "outputs": [
    {
     "name": "stdout",
     "output_type": "stream",
     "text": [
      "1\n",
      "43\n"
     ]
    }
   ],
   "source": [
    "import collections\n",
    "class test(collections.namedtuple('tuple', ('x', 'y', 'z'))):\n",
    "    @property\n",
    "    def name(self):\n",
    "        return self.x[0]\n",
    "    \n",
    "    def parse(self, inputs):\n",
    "        self.y = inputs\n",
    "    \n",
    "    def fn(self, )\n",
    "\n",
    "out = test([1,2], '13', 43)\n",
    "print(out.name)\n",
    "print(out.z)"
   ]
  },
  {
   "cell_type": "code",
   "execution_count": null,
   "metadata": {
    "collapsed": true,
    "jupyter": {
     "outputs_hidden": true
    }
   },
   "outputs": [],
   "source": []
  }
 ],
 "metadata": {
  "kernelspec": {
   "display_name": "Python 3",
   "language": "python",
   "name": "python3"
  },
  "language_info": {
   "codemirror_mode": {
    "name": "ipython",
    "version": 3
   },
   "file_extension": ".py",
   "mimetype": "text/x-python",
   "name": "python",
   "nbconvert_exporter": "python",
   "pygments_lexer": "ipython3",
   "version": "3.8.3"
  }
 },
 "nbformat": 4,
 "nbformat_minor": 4
}
