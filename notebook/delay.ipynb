{
 "cells": [
  {
   "cell_type": "code",
   "execution_count": 1,
   "metadata": {},
   "outputs": [],
   "source": [
    "import random\n",
    "import os\n",
    "import numpy as np\n",
    "import matplotlib.pyplot as plt "
   ]
  },
  {
   "cell_type": "code",
   "execution_count": 2,
   "metadata": {},
   "outputs": [],
   "source": [
    "os.getcwd()\n",
    "os.chdir(\"../data\")"
   ]
  },
  {
   "cell_type": "code",
   "execution_count": 3,
   "metadata": {},
   "outputs": [],
   "source": [
    "total = []\n",
    "error = []\n",
    "dis = [0 for i in range(2881)]\n",
    "with open(\"click_delay\", \"r\") as fp:\n",
    "    for line in fp:\n",
    "        key, show, click = line.strip().split(\"\\t\")\n",
    "        delay = int(click[:10])-int(show[:10])\n",
    "        total.append([show, click, delay, key])\n",
    "        dis[round(delay/60)+1440] += 1\n",
    "        if delay < 0: \n",
    "            error.append([show, click, delay, key])"
   ]
  },
  {
   "cell_type": "code",
   "execution_count": 4,
   "metadata": {},
   "outputs": [
    {
     "name": "stdout",
     "output_type": "stream",
     "text": [
      "8393187\n",
      "475783\n",
      "0.05668681038561395\n"
     ]
    }
   ],
   "source": [
    "print(len(total))\n",
    "print(len(error))\n",
    "print(len(error)/len(total))"
   ]
  },
  {
   "cell_type": "code",
   "execution_count": 7,
   "metadata": {},
   "outputs": [
    {
     "data": {
      "text/plain": [
       "2881"
      ]
     },
     "execution_count": 7,
     "metadata": {},
     "output_type": "execute_result"
    }
   ],
   "source": [
    "len(dis)"
   ]
  },
  {
   "cell_type": "code",
   "execution_count": 8,
   "metadata": {},
   "outputs": [
    {
     "name": "stdout",
     "output_type": "stream",
     "text": [
      "0.7952995378145079\n",
      "0.04508299409985742\n"
     ]
    }
   ],
   "source": [
    "pos = 0\n",
    "for item in total:\n",
    "    if item[2]>600:\n",
    "        pos+=1\n",
    "print(pos/len(error))\n",
    "print(pos/len(total))"
   ]
  },
  {
   "cell_type": "code",
   "execution_count": 17,
   "metadata": {},
   "outputs": [
    {
     "data": {
      "image/png": "[encoded data removed]",
      "text/plain": [
       "<Figure size 432x288 with 1 Axes>"
      ]
     },
     "metadata": {
      "needs_background": "light"
     },
     "output_type": "display_data"
    }
   ],
   "source": [
    "plt.plot(range(-1440,1441,1), dis, color=\"blue\", label=\"delay distribution\")\n",
    "plt.xlim(-1,10)\n",
    "plt.ylim(0,700000)\n",
    "plt.legend()\n",
    "plt.show()"
   ]
  },
  {
   "cell_type": "code",
   "execution_count": 12,
   "metadata": {},
   "outputs": [
    {
     "data": {
      "text/plain": [
       "[['1624290944749080', '1624204840786322', -86104, '3715984666879827959'],\n",
       " ['1624290970312767', '1624204901633762', -86069, '-871387962375837985'],\n",
       " ['1624291117458505', '1624205163473058', -85954, '-2192384263699595644'],\n",
       " ['1624290883841493', '1624204939090463', -85944, '4376181743446466187'],\n",
       " ['1624291008975707', '1624205083415432', -85925, '-6083719345996010757'],\n",
       " ['1624290889600152', '1624204965322202', -85924, '3922169795662132789'],\n",
       " ['1624290798619074', '1624204919079575', -85879, '1885719417944030091'],\n",
       " ['1624290943757135', '1624205112161342', -85831, '3690367332298314085'],\n",
       " ['1624290768801440', '1624204951785333', -85817, '-7285073577781314926'],\n",
       " ['1624290969935330', '1624205176794513', -85793, '7018155248880596522']]"
      ]
     },
     "execution_count": 12,
     "metadata": {},
     "output_type": "execute_result"
    }
   ],
   "source": [
    "sorted(error, key=lambda x: x[2])[:10]"
   ]
  },
  {
   "cell_type": "code",
   "execution_count": null,
   "metadata": {},
   "outputs": [],
   "source": []
  }
 ],
 "metadata": {
  "kernelspec": {
   "display_name": "Python 3",
   "language": "python",
   "name": "python3"
  },
  "language_info": {
   "codemirror_mode": {
    "name": "ipython",
    "version": 3
   },
   "file_extension": ".py",
   "mimetype": "text/x-python",
   "name": "python",
   "nbconvert_exporter": "python",
   "pygments_lexer": "ipython3",
   "version": "3.8.3"
  }
 },
 "nbformat": 4,
 "nbformat_minor": 4
}
