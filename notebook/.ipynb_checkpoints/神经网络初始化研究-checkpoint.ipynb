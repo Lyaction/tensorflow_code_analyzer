{
 "cells": [
  {
   "cell_type": "code",
   "execution_count": 1,
   "metadata": {
    "collapsed": true
   },
   "outputs": [],
   "source": [
    "# 设定神经网络输入维度 5000, 输出维度 512\n",
    "import math\n",
    "import numpy as np\n",
    "import matplotlib.pyplot as plt\n",
    "import functools"
   ]
  },
  {
   "cell_type": "code",
   "execution_count": 19,
   "metadata": {},
   "outputs": [],
   "source": [
    "# 普通均匀分布 输出方差 var = (b-a)^2/12 = 1/3x\n",
    "common_uniform_func = lambda x : np.random.uniform(-1/math.sqrt(x[0]), 1/math.sqrt(x[0]), x)\n",
    "# glorot 均匀分布 var = (b-a)^2/12 = 2/(x+y)\n",
    "glorot_uniform_func = lambda x :\\\n",
    "                            np.random.uniform(-math.sqrt(6)/math.sqrt(sum(x)), math.sqrt(6)/math.sqrt(sum(x)), x)\n",
    "# he 均匀分布 var = (b-a)^2/12 = 2/(x+y)\n",
    "he_uniform_func = lambda x :\\\n",
    "                            np.random.uniform(-math.sqrt(6)/math.sqrt(x[0]), math.sqrt(6)/math.sqrt(sum(x)), x)\n",
    "    \n",
    "common_normal_func = lambda x, y : np.random.normal(0, y, x)\n",
    "relu_active_func = lambda x : np.array(list(map(lambda z:z if z>0 else 0, list(x))))"
   ]
  },
  {
   "cell_type": "code",
   "execution_count": 26,
   "metadata": {},
   "outputs": [
    {
     "name": "stdout",
     "output_type": "stream",
     "text": [
      "-0.030364786081 -0.0404364559307\n",
      "0.219210598896 0.480816715393\n"
     ]
    }
   ],
   "source": [
    "param1 = common_uniform_func([3000, 512])\n",
    "param2 = glorot_uniform_func([3000, 512])\n",
    "ins = common_normal_func(3000, 1)\n",
    "\n",
    "res = ins.dot(param1)\n",
    "res2 = ins.dot(param2)\n",
    "print(sum(res)/len(res), sum(res2)/len(res2))\n",
    "\n",
    "res = relu_active_func(ins.dot(param1))\n",
    "res2 = relu_active_func(ins.dot(param2))\n",
    "print(sum(res)/len(res), sum(res2)/len(res2))"
   ]
  },
  {
   "cell_type": "code",
   "execution_count": 24,
   "metadata": {},
   "outputs": [
    {
     "name": "stdout",
     "output_type": "stream",
     "text": [
      "0.000398019680184\n",
      "0.002522099125\n"
     ]
    }
   ],
   "source": [
    "ins_2 = common_normal_func(3000, 0.01)\n",
    "res_2 = ins_2.dot(param1)\n",
    "print(sum(res_2)/len(res_2))\n",
    "res_2 = relu_active_func(ins_2.dot(param1))\n",
    "print(sum(res_2)/len(res_2))"
   ]
  },
  {
   "cell_type": "code",
   "execution_count": null,
   "metadata": {
    "collapsed": true
   },
   "outputs": [],
   "source": []
  }
 ],
 "metadata": {
  "kernelspec": {
   "display_name": "Python 3",
   "language": "python",
   "name": "python3"
  },
  "language_info": {
   "codemirror_mode": {
    "name": "ipython",
    "version": 3
   },
   "file_extension": ".py",
   "mimetype": "text/x-python",
   "name": "python",
   "nbconvert_exporter": "python",
   "pygments_lexer": "ipython3",
   "version": "3.6.2"
  }
 },
 "nbformat": 4,
 "nbformat_minor": 2
}
