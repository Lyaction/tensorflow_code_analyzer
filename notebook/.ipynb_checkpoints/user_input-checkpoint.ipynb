{
 "cells": [
  {
   "cell_type": "code",
   "execution_count": 17,
   "metadata": {},
   "outputs": [],
   "source": [
    "import tensorflow as tf\n",
    "from tensorflow.python.ops import variable_scope"
   ]
  },
  {
   "cell_type": "code",
   "execution_count": 18,
   "metadata": {
    "collapsed": true
   },
   "outputs": [],
   "source": [
    "tf.enable_eager_execution()"
   ]
  },
  {
   "cell_type": "code",
   "execution_count": 70,
   "metadata": {},
   "outputs": [
    {
     "name": "stdout",
     "output_type": "stream",
     "text": [
      "tf.Tensor(\n",
      "[b'21|90,24,46|;31,24|42|56;63||46' b'54|84;98|;78|83,36,89'\n",
      " b'12,58,12;;83,24'], shape=(3,), dtype=string)\n"
     ]
    }
   ],
   "source": [
    "csv = [\"21|90,24,46|;31,24|42|56;63||46\", \"54|84;98|;78|83,36,89\", \"12,58,12;;83,24\"]\n",
    "slot_name = [\"ad_clk-slot_1\", \"ad_clk-slot_2\", \"ad_clk-slot_3\"]\n",
    "batch_size, seq_length, slot_num = 3, 4, 3\n",
    "sample = tf.constant(csv)\n",
    "print(sample)"
   ]
  },
  {
   "cell_type": "code",
   "execution_count": 71,
   "metadata": {},
   "outputs": [
    {
     "name": "stdout",
     "output_type": "stream",
     "text": [
      "tf.Tensor([b'21' b'90,24,46' b'' b'' b'54' b'84' b'' b'' b'12,58,12' b'' b'' b''], shape=(12,), dtype=string)\n",
      "SparseTensor(indices=tf.Tensor(\n",
      "[[0 0]\n",
      " [1 0]\n",
      " [1 1]\n",
      " [1 2]\n",
      " [4 0]\n",
      " [5 0]\n",
      " [8 0]\n",
      " [8 1]\n",
      " [8 2]], shape=(9, 2), dtype=int64), values=tf.Tensor([b'21' b'90' b'24' b'46' b'54' b'84' b'12' b'58' b'12'], shape=(9,), dtype=string), dense_shape=tf.Tensor([12  3], shape=(2,), dtype=int64))\n",
      "tf.Tensor([b'31,24' b'42' b'56' b'' b'98' b'' b'' b'' b'' b'' b'' b''], shape=(12,), dtype=string)\n",
      "SparseTensor(indices=tf.Tensor(\n",
      "[[0 0]\n",
      " [0 1]\n",
      " [1 0]\n",
      " [2 0]\n",
      " [4 0]], shape=(5, 2), dtype=int64), values=tf.Tensor([b'31' b'24' b'42' b'56' b'98'], shape=(5,), dtype=string), dense_shape=tf.Tensor([12  2], shape=(2,), dtype=int64))\n",
      "tf.Tensor([b'63' b'' b'46' b'' b'78' b'83,36,89' b'' b'' b'83,24' b'' b'' b''], shape=(12,), dtype=string)\n",
      "SparseTensor(indices=tf.Tensor(\n",
      "[[0 0]\n",
      " [2 0]\n",
      " [4 0]\n",
      " [5 0]\n",
      " [5 1]\n",
      " [5 2]\n",
      " [8 0]\n",
      " [8 1]], shape=(8, 2), dtype=int64), values=tf.Tensor([b'63' b'46' b'78' b'83' b'36' b'89' b'83' b'24'], shape=(8,), dtype=string), dense_shape=tf.Tensor([12  3], shape=(2,), dtype=int64))\n",
      "{'ad_clk-slot_1': <tensorflow.python.framework.sparse_tensor.SparseTensor object at 0x7fe82a2d1518>, 'ad_clk-slot_2': <tensorflow.python.framework.sparse_tensor.SparseTensor object at 0x7fe82a5d61d0>, 'ad_clk-slot_3': <tensorflow.python.framework.sparse_tensor.SparseTensor object at 0x7fe82a5d6470>}\n"
     ]
    }
   ],
   "source": [
    "batch_size, seq_length, slot_num = 3, 4, 3\n",
    "slot_feas = tf.decode_csv(sample, [\"\"]*slot_num, \";\")\n",
    "outer_sparse_feas = {}\n",
    "for name, slot_seq in zip(slot_name, slot_feas):\n",
    "    slot_fea = tf.string_split(slot_seq, \"|\", False)\n",
    "    total_string = tf.reshape(tf.sparse_to_dense(slot_fea.indices, [batch_size, seq_length], slot_fea.values, \"\"), [batch_size*seq_length])\n",
    "    print(total_string)\n",
    "    sparse_string = tf.string_split(total_string, \",\", False)\n",
    "    print(sparse_string)\n",
    "    sparse_value = tf.string_to_number(sparse_string.values, out_type=tf.int64)\n",
    "    outer_sparse_feas[name] = tf.SparseTensor(sparse_string.indices, sparse_value, sparse_string.dense_shape)\n",
    "print(outer_sparse_feas)"
   ]
  },
  {
   "cell_type": "code",
   "execution_count": 50,
   "metadata": {},
   "outputs": [
    {
     "name": "stdout",
     "output_type": "stream",
     "text": [
      "<tf.Variable 'v1:0' shape=(2,) dtype=int32, numpy=array([0, 0], dtype=int32)> <tf.Variable 'test/v1:0' shape=(2,) dtype=int32, numpy=array([0, 0], dtype=int32)> <tf.Variable 'test/v1:0' shape=(2,) dtype=int32, numpy=array([0, 0], dtype=int32)>\n"
     ]
    }
   ],
   "source": [
    "x=tf.constant(\"1\")\n",
    "v2=tf.get_variable(\"v1\", [2], tf.int32)\n",
    "with tf.variable_scope(\"test\"):\n",
    "    v1=tf.get_variable(\"v1\", [2], tf.int32)\n",
    "    tf.get_variable(\"v2\", [2], tf.int32)\n",
    "    v3=tf.get_variable(\"v1\", [2], tf.int32)\n",
    "#print(x.name)\n",
    "#print(tf.get_default_graph().get_tensor_by_name(v2.name))\n",
    "print(v2,v1,v3)"
   ]
  },
  {
   "cell_type": "code",
   "execution_count": 74,
   "metadata": {},
   "outputs": [],
   "source": [
    "colum = tf.feature_column.categorical_column_with_identity(\"ad_clk_slot_1\", 100, 0)\n",
    "feature_cloumn = tf.feature_column.embedding_column(colum, 10)\n",
    "indicator_column = tf.feature_column.indicator_column(colum)"
   ]
  },
  {
   "cell_type": "code",
   "execution_count": 79,
   "metadata": {
    "scrolled": true
   },
   "outputs": [
    {
     "name": "stdout",
     "output_type": "stream",
     "text": [
      "SparseTensor(indices=tf.Tensor(\n",
      "[[0 0]\n",
      " [1 0]\n",
      " [1 1]\n",
      " [1 2]\n",
      " [4 0]\n",
      " [5 0]\n",
      " [8 0]\n",
      " [8 1]\n",
      " [8 2]], shape=(9, 2), dtype=int64), values=tf.Tensor([21 90 24 46 54 84 12 58 12], shape=(9,), dtype=int64), dense_shape=tf.Tensor([12  3], shape=(2,), dtype=int64))\n"
     ]
    },
    {
     "data": {
      "text/plain": [
       "<tf.Tensor: id=2752, shape=(100,), dtype=float32, numpy=\n",
       "array([ 0.,  0.,  0.,  0.,  0.,  0.,  0.,  0.,  0.,  0.,  0.,  0.,  0.,\n",
       "        0.,  0.,  0.,  0.,  0.,  0.,  0.,  0.,  0.,  0.,  0.,  1.,  0.,\n",
       "        0.,  0.,  0.,  0.,  0.,  0.,  0.,  0.,  0.,  0.,  0.,  0.,  0.,\n",
       "        0.,  0.,  0.,  0.,  0.,  0.,  0.,  1.,  0.,  0.,  0.,  0.,  0.,\n",
       "        0.,  0.,  0.,  0.,  0.,  0.,  0.,  0.,  0.,  0.,  0.,  0.,  0.,\n",
       "        0.,  0.,  0.,  0.,  0.,  0.,  0.,  0.,  0.,  0.,  0.,  0.,  0.,\n",
       "        0.,  0.,  0.,  0.,  0.,  0.,  0.,  0.,  0.,  0.,  0.,  0.,  1.,\n",
       "        0.,  0.,  0.,  0.,  0.,  0.,  0.,  0.,  0.], dtype=float32)>"
      ]
     },
     "execution_count": 79,
     "metadata": {},
     "output_type": "execute_result"
    }
   ],
   "source": [
    "print(outer_sparse_feas[\"ad_clk-slot_1\"])\n",
    "tf.feature_column.input_layer({\"ad_clk_slot_1\":outer_sparse_feas[\"ad_clk-slot_1\"]}, [feature_cloumn])\n",
    "tf.feature_column.input_layer({\"ad_clk_slot_1\":outer_sparse_feas[\"ad_clk-slot_1\"]}, [indicator_column])[1]"
   ]
  },
  {
   "cell_type": "code",
   "execution_count": 69,
   "metadata": {},
   "outputs": [
    {
     "name": "stdout",
     "output_type": "stream",
     "text": [
      "SparseTensor(indices=tf.Tensor(\n",
      "[[0 0]\n",
      " [1 0]\n",
      " [1 1]\n",
      " [1 2]\n",
      " [4 0]\n",
      " [5 0]\n",
      " [8 0]\n",
      " [8 1]\n",
      " [8 2]], shape=(9, 2), dtype=int64), values=tf.Tensor([321  90  24  46  54  84 412 548  12], shape=(9,), dtype=int64), dense_shape=tf.Tensor([12  3], shape=(2,), dtype=int64))\n"
     ]
    },
    {
     "data": {
      "text/plain": [
       "<tf.Tensor: id=1905, shape=(12, 10), dtype=float32, numpy=\n",
       "array([[ 0.52254075, -0.02677039, -0.08395325,  0.06128124, -0.31251341,\n",
       "         0.42425579,  0.0705861 , -0.05156358,  0.3776598 ,  0.31427813],\n",
       "       [ 0.10741454, -0.27143222, -0.16021368, -0.03774109,  0.04317988,\n",
       "         0.04162496, -0.02815527,  0.0819087 ,  0.11332647, -0.16410284],\n",
       "       [ 0.        ,  0.        ,  0.        ,  0.        ,  0.        ,\n",
       "         0.        ,  0.        ,  0.        ,  0.        ,  0.        ],\n",
       "       [ 0.        ,  0.        ,  0.        ,  0.        ,  0.        ,\n",
       "         0.        ,  0.        ,  0.        ,  0.        ,  0.        ],\n",
       "       [ 0.31245029,  0.01536097,  0.173768  ,  0.01731536, -0.14887927,\n",
       "        -0.10974558,  0.47252876, -0.02163495, -0.35377961,  0.01994451],\n",
       "       [ 0.25287259,  0.31501347, -0.08505826,  0.35081163, -0.22504589,\n",
       "         0.45057985,  0.37342882, -0.19483744,  0.10163494,  0.16682829],\n",
       "       [ 0.        ,  0.        ,  0.        ,  0.        ,  0.        ,\n",
       "         0.        ,  0.        ,  0.        ,  0.        ,  0.        ],\n",
       "       [ 0.        ,  0.        ,  0.        ,  0.        ,  0.        ,\n",
       "         0.        ,  0.        ,  0.        ,  0.        ,  0.        ],\n",
       "       [ 0.07059944, -0.04560975, -0.13031928,  0.01821022, -0.16388817,\n",
       "        -0.02393439,  0.15439868,  0.37571001, -0.16657726, -0.43862036],\n",
       "       [ 0.        ,  0.        ,  0.        ,  0.        ,  0.        ,\n",
       "         0.        ,  0.        ,  0.        ,  0.        ,  0.        ],\n",
       "       [ 0.        ,  0.        ,  0.        ,  0.        ,  0.        ,\n",
       "         0.        ,  0.        ,  0.        ,  0.        ,  0.        ],\n",
       "       [ 0.        ,  0.        ,  0.        ,  0.        ,  0.        ,\n",
       "         0.        ,  0.        ,  0.        ,  0.        ,  0.        ]], dtype=float32)>"
      ]
     },
     "execution_count": 69,
     "metadata": {},
     "output_type": "execute_result"
    }
   ],
   "source": [
    "print(outer_sparse_feas[\"ad_clk-slot_1\"])\n",
    "tf.feature_column.input_layer({\"ad_clk_slot_1\":outer_sparse_feas[\"ad_clk-slot_1\"]}, [feature_cloumn])"
   ]
  },
  {
   "cell_type": "code",
   "execution_count": null,
   "metadata": {
    "collapsed": true
   },
   "outputs": [],
   "source": [
    "class test(name)"
   ]
  }
 ],
 "metadata": {
  "kernelspec": {
   "display_name": "Python 3",
   "language": "python",
   "name": "python3"
  },
  "language_info": {
   "codemirror_mode": {
    "name": "ipython",
    "version": 3
   },
   "file_extension": ".py",
   "mimetype": "text/x-python",
   "name": "python",
   "nbconvert_exporter": "python",
   "pygments_lexer": "ipython3",
   "version": "3.6.2"
  }
 },
 "nbformat": 4,
 "nbformat_minor": 4
}
