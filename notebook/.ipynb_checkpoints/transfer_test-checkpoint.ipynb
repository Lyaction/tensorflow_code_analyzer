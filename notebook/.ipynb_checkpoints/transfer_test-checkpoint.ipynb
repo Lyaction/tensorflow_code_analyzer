{
 "cells": [
  {
   "cell_type": "code",
   "execution_count": null,
   "metadata": {
    "collapsed": true
   },
   "outputs": [],
   "source": [
    "import tensorflow as tf\n",
    "\n",
    "# 定义新的模型\n",
    "x = tf.placeholder(tf.float32, [None, 10], name='input')\n",
    "y2 = tf.layers.dense(x, 8, activation=None, name='output1')\n",
    "y2 = tf.layers.dense(x, 1, activation=None, name='output2')\n",
    "\n",
    "# 获取要迁移的参数列表\n",
    "var_list = [v for v in tf.trainable_variables() if v.name.startswith('output1')]\n",
    "\n",
    "# 定义 Saver 对象并加载模型参数\n",
    "saver2 = tf.train.Saver(var_list=var_list)\n",
    "with tf.Session() as sess:\n",
    "    saver2.restore(sess, 'model1.ckpt')\n",
    "\n",
    "    # 获取要赋值的变量列表\n",
    "    var_list2 = [v for v in tf.trainable_variables() if v.name.startswith('output2')]\n",
    "\n",
    "    # 赋值模型参数\n",
    "    for v1, v2 in zip(var_list, var_list2):\n",
    "        value = sess.run(v1)\n",
    "        sess.run(tf.assign(v2, value))\n",
    "\n",
    "    # 测试新模型\n",
    "    sess.run(tf.global_variables_initializer())\n",
    "    # ...测试新模型...\n"
   ]
  },
  {
   "cell_type": "code",
   "execution_count": 1,
   "metadata": {},
   "outputs": [
    {
     "name": "stdout",
     "output_type": "stream",
     "text": [
      "WARNING:tensorflow:From <ipython-input-1-404de4ff6031>:5: dense (from tensorflow.python.layers.core) is deprecated and will be removed in a future version.\n",
      "Instructions for updating:\n",
      "Use keras.layers.Dense instead.\n",
      "WARNING:tensorflow:From /Users/guochaofeng/anaconda3/envs/tf1.15/lib/python3.6/site-packages/tensorflow_core/python/layers/core.py:187: Layer.apply (from tensorflow.python.keras.engine.base_layer) is deprecated and will be removed in a future version.\n",
      "Instructions for updating:\n",
      "Please use `layer.__call__` method instead.\n",
      "INFO:tensorflow:Create CheckpointSaverHook.\n"
     ]
    },
    {
     "name": "stderr",
     "output_type": "stream",
     "text": [
      "ERROR:root:Internal Python error in the inspect module.\n",
      "Below is the traceback from this internal error.\n",
      "\n"
     ]
    },
    {
     "name": "stdout",
     "output_type": "stream",
     "text": [
      "Traceback (most recent call last):\n",
      "  File \"/Users/guochaofeng/anaconda3/envs/tf1.15/lib/python3.6/site-packages/IPython/core/interactiveshell.py\", line 2862, in run_code\n",
      "    exec(code_obj, self.user_global_ns, self.user_ns)\n",
      "  File \"<ipython-input-1-404de4ff6031>\", line 9, in <module>\n",
      "    with tf.train.MonitoredTrainingSession(checkpoint_dir='model/model1.ckpt') as sess:\n",
      "  File \"/Users/guochaofeng/anaconda3/envs/tf1.15/lib/python3.6/site-packages/tensorflow_core/python/training/monitored_session.py\", line 584, in MonitoredTrainingSession\n",
      "    stop_grace_period_secs=stop_grace_period_secs)\n",
      "  File \"/Users/guochaofeng/anaconda3/envs/tf1.15/lib/python3.6/site-packages/tensorflow_core/python/training/monitored_session.py\", line 1014, in __init__\n",
      "    stop_grace_period_secs=stop_grace_period_secs)\n",
      "  File \"/Users/guochaofeng/anaconda3/envs/tf1.15/lib/python3.6/site-packages/tensorflow_core/python/training/monitored_session.py\", line 713, in __init__\n",
      "    h.begin()\n",
      "  File \"/Users/guochaofeng/anaconda3/envs/tf1.15/lib/python3.6/site-packages/tensorflow_core/python/training/basic_session_run_hooks.py\", line 679, in begin\n",
      "    \"Global step should be created to use StepCounterHook.\")\n",
      "RuntimeError: Global step should be created to use StepCounterHook.\n",
      "\n",
      "During handling of the above exception, another exception occurred:\n",
      "\n",
      "Traceback (most recent call last):\n",
      "  File \"/Users/guochaofeng/anaconda3/envs/tf1.15/lib/python3.6/site-packages/IPython/core/interactiveshell.py\", line 1806, in showtraceback\n",
      "    stb = value._render_traceback_()\n",
      "AttributeError: 'RuntimeError' object has no attribute '_render_traceback_'\n",
      "\n",
      "During handling of the above exception, another exception occurred:\n",
      "\n",
      "Traceback (most recent call last):\n",
      "  File \"/Users/guochaofeng/anaconda3/envs/tf1.15/lib/python3.6/site-packages/IPython/core/ultratb.py\", line 1090, in get_records\n",
      "    return _fixed_getinnerframes(etb, number_of_lines_of_context, tb_offset)\n",
      "  File \"/Users/guochaofeng/anaconda3/envs/tf1.15/lib/python3.6/site-packages/IPython/core/ultratb.py\", line 311, in wrapped\n",
      "    return f(*args, **kwargs)\n",
      "  File \"/Users/guochaofeng/anaconda3/envs/tf1.15/lib/python3.6/site-packages/IPython/core/ultratb.py\", line 345, in _fixed_getinnerframes\n",
      "    records = fix_frame_records_filenames(inspect.getinnerframes(etb, context))\n",
      "  File \"/Users/guochaofeng/anaconda3/envs/tf1.15/lib/python3.6/inspect.py\", line 1490, in getinnerframes\n",
      "    frameinfo = (tb.tb_frame,) + getframeinfo(tb, context)\n",
      "  File \"/Users/guochaofeng/anaconda3/envs/tf1.15/lib/python3.6/inspect.py\", line 1448, in getframeinfo\n",
      "    filename = getsourcefile(frame) or getfile(frame)\n",
      "  File \"/Users/guochaofeng/anaconda3/envs/tf1.15/lib/python3.6/inspect.py\", line 696, in getsourcefile\n",
      "    if getattr(getmodule(object, filename), '__loader__', None) is not None:\n",
      "  File \"/Users/guochaofeng/anaconda3/envs/tf1.15/lib/python3.6/inspect.py\", line 733, in getmodule\n",
      "    if ismodule(module) and hasattr(module, '__file__'):\n",
      "  File \"/Users/guochaofeng/anaconda3/envs/tf1.15/lib/python3.6/site-packages/tensorflow/__init__.py\", line 50, in __getattr__\n",
      "    module = self._load()\n",
      "  File \"/Users/guochaofeng/anaconda3/envs/tf1.15/lib/python3.6/site-packages/tensorflow/__init__.py\", line 44, in _load\n",
      "    module = _importlib.import_module(self.__name__)\n",
      "  File \"/Users/guochaofeng/anaconda3/envs/tf1.15/lib/python3.6/importlib/__init__.py\", line 126, in import_module\n",
      "    return _bootstrap._gcd_import(name[level:], package, level)\n",
      "  File \"<frozen importlib._bootstrap>\", line 994, in _gcd_import\n",
      "  File \"<frozen importlib._bootstrap>\", line 971, in _find_and_load\n",
      "  File \"<frozen importlib._bootstrap>\", line 955, in _find_and_load_unlocked\n",
      "  File \"<frozen importlib._bootstrap>\", line 665, in _load_unlocked\n",
      "  File \"<frozen importlib._bootstrap_external>\", line 678, in exec_module\n",
      "  File \"<frozen importlib._bootstrap>\", line 219, in _call_with_frames_removed\n",
      "  File \"/Users/guochaofeng/anaconda3/envs/tf1.15/lib/python3.6/site-packages/tensorflow_core/contrib/__init__.py\", line 39, in <module>\n",
      "    from tensorflow.contrib import compiler\n",
      "  File \"/Users/guochaofeng/anaconda3/envs/tf1.15/lib/python3.6/site-packages/tensorflow_core/contrib/compiler/__init__.py\", line 21, in <module>\n",
      "    from tensorflow.contrib.compiler import jit\n",
      "  File \"/Users/guochaofeng/anaconda3/envs/tf1.15/lib/python3.6/site-packages/tensorflow_core/contrib/compiler/__init__.py\", line 22, in <module>\n",
      "    from tensorflow.contrib.compiler import xla\n",
      "  File \"/Users/guochaofeng/anaconda3/envs/tf1.15/lib/python3.6/site-packages/tensorflow_core/contrib/compiler/xla.py\", line 22, in <module>\n",
      "    from tensorflow.python.estimator import model_fn as model_fn_lib\n",
      "  File \"/Users/guochaofeng/anaconda3/envs/tf1.15/lib/python3.6/site-packages/tensorflow_core/python/estimator/model_fn.py\", line 26, in <module>\n",
      "    from tensorflow_estimator.python.estimator import model_fn\n",
      "  File \"/Users/guochaofeng/anaconda3/envs/tf1.15/lib/python3.6/site-packages/tensorflow_estimator/__init__.py\", line 10, in <module>\n",
      "    from tensorflow_estimator._api.v1 import estimator\n",
      "  File \"/Users/guochaofeng/anaconda3/envs/tf1.15/lib/python3.6/site-packages/tensorflow_estimator/_api/v1/estimator/__init__.py\", line 10, in <module>\n",
      "    from tensorflow_estimator._api.v1.estimator import experimental\n",
      "  File \"/Users/guochaofeng/anaconda3/envs/tf1.15/lib/python3.6/site-packages/tensorflow_estimator/_api/v1/estimator/experimental/__init__.py\", line 10, in <module>\n",
      "    from tensorflow_estimator.python.estimator.canned.dnn import dnn_logit_fn_builder\n",
      "  File \"/Users/guochaofeng/anaconda3/envs/tf1.15/lib/python3.6/site-packages/tensorflow_estimator/python/estimator/canned/dnn.py\", line 27, in <module>\n",
      "    from tensorflow_estimator.python.estimator import estimator\n",
      "  File \"/Users/guochaofeng/anaconda3/envs/tf1.15/lib/python3.6/site-packages/tensorflow_estimator/python/estimator/estimator.py\", line 36, in <module>\n",
      "    from tensorflow.python.profiler import trace\n",
      "ImportError: cannot import name 'trace'\n"
     ]
    },
    {
     "ename": "RuntimeError",
     "evalue": "Global step should be created to use StepCounterHook.",
     "output_type": "error",
     "traceback": [
      "\u001b[0;31m---------------------------------------------------------------------------\u001b[0m"
     ]
    }
   ],
   "source": [
    "import tensorflow as tf\n",
    "\n",
    "# 定义新的模型\n",
    "x = tf.placeholder(tf.float32, [None, 10], name='input')\n",
    "y2 = tf.layers.dense(x, 8, activation=None, name='output1')\n",
    "y2 = tf.layers.dense(x, 1, activation=None, name='output2')\n",
    "\n",
    "\n",
    "with tf.train.MonitoredTrainingSession(checkpoint_dir='model/model1.ckpt') as sess:\n",
    "    \n",
    "    sess.run(tf.trainable_variables())\n",
    "    # ...测试新模型...\n"
   ]
  },
  {
   "cell_type": "code",
   "execution_count": null,
   "metadata": {
    "collapsed": true
   },
   "outputs": [],
   "source": []
  }
 ],
 "metadata": {
  "kernelspec": {
   "display_name": "Python 3",
   "language": "python",
   "name": "python3"
  },
  "language_info": {
   "codemirror_mode": {
    "name": "ipython",
    "version": 3
   },
   "file_extension": ".py",
   "mimetype": "text/x-python",
   "name": "python",
   "nbconvert_exporter": "python",
   "pygments_lexer": "ipython3",
   "version": "3.6.8"
  }
 },
 "nbformat": 4,
 "nbformat_minor": 2
}
