{
 "cells": [
  {
   "cell_type": "code",
   "execution_count": 1,
   "metadata": {
    "collapsed": true
   },
   "outputs": [],
   "source": [
    "# 有分布未知的相互独立的变量 X，Y，讨论 X 与 XY 的 Pearson 系数\n",
    "# ESMM 建模 X = P(c=1|x), Y = P(r=1|x,c=1), XY = P(c=1,r=1|x)"
   ]
  },
  {
   "cell_type": "code",
   "execution_count": 2,
   "metadata": {
    "collapsed": true
   },
   "outputs": [],
   "source": [
    "import numpy as np\n",
    "import random"
   ]
  },
  {
   "cell_type": "code",
   "execution_count": 3,
   "metadata": {
    "collapsed": true
   },
   "outputs": [],
   "source": [
    "def gen_samples(dims=10):\n",
    "    samples = []\n",
    "    for i in range(dims-1):\n",
    "        agg = sum(samples)\n",
    "        samples.append(random.random()*(1-agg))\n",
    "    samples.append(1-sum(samples))\n",
    "    return samples\n",
    "\n",
    "def gen_samples_v2(dims=10):\n",
    "    samples = [random.random() for i in range(dims)]\n",
    "    return np.array(list((map(lambda x : x/sum(samples), samples))))\n",
    "\n",
    "def gen_samples_v3(dims=10):\n",
    "    samples = [random.random() for i in range(dims)]\n",
    "    return np.array(samples)"
   ]
  },
  {
   "cell_type": "code",
   "execution_count": 29,
   "metadata": {
    "collapsed": true
   },
   "outputs": [],
   "source": [
    "def distribute(search=100):\n",
    "    dis = []\n",
    "    for i in range(search):\n",
    "        x, y = gen_samples_v3(), gen_samples_v3()\n",
    "        cor_xy = np.corrcoef(x*y,x)\n",
    "        dis.append(cor_xy[0, 1])\n",
    "    return dis\n",
    "        \n",
    "def distribute_v2(threshold, search=100000):\n",
    "    for i in range(search):\n",
    "        x, y = gen_samples_v3(), gen_samples_v3()\n",
    "        cor_xy = np.corrcoef(x*y,x)\n",
    "        if abs(cor_xy[0,1]) < threshold:\n",
    "            return x, y, cor_xy\n",
    "        else:\n",
    "            continue"
   ]
  },
  {
   "cell_type": "code",
   "execution_count": 6,
   "metadata": {
    "collapsed": true
   },
   "outputs": [],
   "source": [
    "import matplotlib.pyplot as plt"
   ]
  },
  {
   "cell_type": "code",
   "execution_count": 33,
   "metadata": {
    "scrolled": true
   },
   "outputs": [
    {
     "name": "stdout",
     "output_type": "stream",
     "text": [
      "(array([ 0.94376503,  0.66607749,  0.46767798,  0.35416385,  0.25635601,\n",
      "        0.6599729 ,  0.4025737 ,  0.11586734,  0.30856679,  0.5077323 ]), array([ 0.08133064,  0.13052527,  0.53388191,  0.86136273,  0.9765672 ,\n",
      "        0.70477469,  0.26428628,  0.24918802,  0.79297894,  0.07893022]), array([[  1.00000000e+00,   6.01102449e-04],\n",
      "       [  6.01102449e-04,   1.00000000e+00]]))\n"
     ]
    }
   ],
   "source": [
    "print(distribute_v2(0.001))"
   ]
  },
  {
   "cell_type": "code",
   "execution_count": 36,
   "metadata": {},
   "outputs": [
    {
     "data": {
      "image/png": "[encoded data removed]",
      "text/plain": [
       "<matplotlib.figure.Figure at 0x7fa87f7525c0>"
      ]
     },
     "metadata": {},
     "output_type": "display_data"
    }
   ],
   "source": [
    "plt.hist(distribute(100000), bins=1000)\n",
    "plt.show()"
   ]
  },
  {
   "cell_type": "code",
   "execution_count": 46,
   "metadata": {},
   "outputs": [
    {
     "name": "stdout",
     "output_type": "stream",
     "text": [
      "[[  3.92249474e-02  -1.23259516e-32]\n",
      " [ -1.23259516e-32   1.36955018e-32]] [[  1.00000000e+00  -5.31802408e-16]\n",
      " [ -5.31802408e-16   1.00000000e+00]]\n"
     ]
    }
   ],
   "source": [
    "# cov(XY, X) = E(XY*X) - E(XY)E(X) = E(X*X)E(Y) - E(X)E(X)E(Y) = D(X)E(Y) = 0, 得 D(X) = 0\n",
    "# 即：当 X 的方差为 0 时，X 与 XY 不相关，但推荐系统中显然 D(X) != 0\n",
    "x = np.array([0.6] * 10)\n",
    "y = gen_samples_v3()\n",
    "print(np.cov(x*y,x), np.corrcoef(x*y,x))"
   ]
  },
  {
   "cell_type": "code",
   "execution_count": 48,
   "metadata": {},
   "outputs": [
    {
     "data": {
      "image/png": "[encoded data removed]",
      "text/plain": [
       "<matplotlib.figure.Figure at 0x7fa88088ea90>"
      ]
     },
     "metadata": {},
     "output_type": "display_data"
    }
   ],
   "source": [
    "# 均匀分布下 X 与 Y 的相关性分布如下 \n",
    "def distribute_v3(search=100):\n",
    "    dis = []\n",
    "    for i in range(search):\n",
    "        x, y = gen_samples_v3(), gen_samples_v3()\n",
    "        cor_xy = np.corrcoef(y,x)\n",
    "        dis.append(cor_xy[0, 1])\n",
    "    return dis\n",
    "plt.hist(distribute_v3(100000), bins=1000)\n",
    "plt.show()"
   ]
  },
  {
   "cell_type": "code",
   "execution_count": 49,
   "metadata": {
    "collapsed": true
   },
   "outputs": [],
   "source": [
    "# 假设真实预估符合正态分布，随机生成的两个正态分布 X, Y \n",
    "# X 期望 e1, 方差 d1；X 期望 e2, 方差 d2；\n",
    "# cor(x, y) = E()\n"
   ]
  },
  {
   "cell_type": "code",
   "execution_count": null,
   "metadata": {
    "collapsed": true
   },
   "outputs": [],
   "source": [
    "# conflict: ctr cvr 条件独立，则一定不相关，高 ctr 倾向高 cvr ？"
   ]
  }
 ],
 "metadata": {
  "kernelspec": {
   "display_name": "Python 3",
   "language": "python",
   "name": "python3"
  },
  "language_info": {
   "codemirror_mode": {
    "name": "ipython",
    "version": 3
   },
   "file_extension": ".py",
   "mimetype": "text/x-python",
   "name": "python",
   "nbconvert_exporter": "python",
   "pygments_lexer": "ipython3",
   "version": "3.6.2"
  }
 },
 "nbformat": 4,
 "nbformat_minor": 2
}
