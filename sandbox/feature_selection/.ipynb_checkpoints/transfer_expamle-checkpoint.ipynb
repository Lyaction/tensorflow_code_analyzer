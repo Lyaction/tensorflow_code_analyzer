{
 "cells": [
  {
   "cell_type": "code",
   "execution_count": null,
   "id": "b4d4c11f-93c9-47c2-8216-bcd62b314b2e",
   "metadata": {},
   "outputs": [],
   "source": [
    "import tensorflow as tf\n",
    "\n",
    "# 定义模型\n",
    "x = tf.placeholder(tf.float32, [None, 784], name='input')\n",
    "y = tf.layers.dense(x, 10, activation=None, name='output')\n",
    "\n",
    "# 定义 Saver 对象\n",
    "saver = tf.train.Saver()\n",
    "\n",
    "# 训练模型并保存模型参数\n",
    "with tf.Session() as sess:\n",
    "    # ...训练模型...\n",
    "    saver.save(sess, 'model.ckpt')\n",
    "\n",
    "# 加载模型参数并测试模型\n",
    "with tf.Session() as sess:\n",
    "    # 加载模型参数\n",
    "    saver.restore(sess, 'model.ckpt')\n",
    "\n",
    "    # 获取指定的参数\n",
    "    var_list = [v for v in tf.trainable_variables() if v.name.startswith('output')]\n",
    "    values = sess.run(var_list)\n",
    "\n",
    "    # 打印参数值\n",
    "    for v, value in zip(var_list, values):\n",
    "        print(v.name, value)\n"
   ]
  },
  {
   "cell_type": "code",
   "execution_count": null,
   "id": "f19e796a-4649-42ae-898a-d2582eae6973",
   "metadata": {},
   "outputs": [],
   "source": [
    "import tensorflow as tf\n",
    "\n",
    "# 定义模型\n",
    "x = tf.placeholder(tf.float32, [None, 784], name='input')\n",
    "y1 = tf.layers.dense(x, 10, activation=None, name='output1')\n",
    "\n",
    "# 定义 Saver 对象\n",
    "saver = tf.train.Saver()\n",
    "\n",
    "# 训练模型并保存模型参数\n",
    "with tf.Session() as sess:\n",
    "    # ...训练模型...\n",
    "    saver.save(sess, 'model.ckpt')\n",
    "\n",
    "# 加载模型参数并赋值给新的模型\n",
    "with tf.Graph().as_default():\n",
    "    # 定义新的模型\n",
    "    x = tf.placeholder(tf.float32, [None, 784], name='input')\n",
    "    y2 = tf.layers.dense(x, 10, activation=None, name='output2')\n",
    "\n",
    "    # 获取要加载的参数列表\n",
    "    var_list = [v for v in tf.trainable_variables() if v.name.startswith('output1')]\n",
    "\n",
    "    # 定义 Saver 对象并加载模型参数\n",
    "    saver = tf.train.Saver(var_list=var_list)\n",
    "    with tf.Session() as sess:\n",
    "        saver.restore(sess, 'model.ckpt')\n",
    "\n",
    "        # 获取要赋值的变量列表\n",
    "        var_list2 = [v for v in tf.trainable_variables() if v.name.startswith('output2')]\n",
    "\n",
    "        # 赋值模型参数\n",
    "        for v1, v2 in zip(var_list, var_list2):\n",
    "            value = sess.run(v1)\n",
    "           \n"
   ]
  },
  {
   "cell_type": "code",
   "execution_count": 1,
   "id": "b5f206a1-a485-4abd-97ea-103910f65e74",
   "metadata": {},
   "outputs": [
    {
     "name": "stderr",
     "output_type": "stream",
     "text": [
      "2023-06-27 11:42:14.650795: I tensorflow/core/platform/cpu_feature_guard.cc:193] This TensorFlow binary is optimized with oneAPI Deep Neural Network Library (oneDNN) to use the following CPU instructions in performance-critical operations:  SSE4.1 SSE4.2 AVX AVX2 FMA\n",
      "To enable them in other operations, rebuild TensorFlow with the appropriate compiler flags.\n"
     ]
    },
    {
     "ename": "AttributeError",
     "evalue": "module 'tensorflow' has no attribute 'placeholder'",
     "output_type": "error",
     "traceback": [
      "\u001b[0;31m---------------------------------------------------------------------------\u001b[0m",
      "\u001b[0;31mAttributeError\u001b[0m                            Traceback (most recent call last)",
      "Cell \u001b[0;32mIn[1], line 4\u001b[0m\n\u001b[1;32m      1\u001b[0m \u001b[38;5;28;01mimport\u001b[39;00m \u001b[38;5;21;01mtensorflow\u001b[39;00m \u001b[38;5;28;01mas\u001b[39;00m \u001b[38;5;21;01mtf\u001b[39;00m\n\u001b[1;32m      3\u001b[0m \u001b[38;5;66;03m# 定义原模型\u001b[39;00m\n\u001b[0;32m----> 4\u001b[0m x \u001b[38;5;241m=\u001b[39m \u001b[43mtf\u001b[49m\u001b[38;5;241;43m.\u001b[39;49m\u001b[43mplaceholder\u001b[49m(tf\u001b[38;5;241m.\u001b[39mfloat32, [\u001b[38;5;28;01mNone\u001b[39;00m, \u001b[38;5;241m10\u001b[39m], name\u001b[38;5;241m=\u001b[39m\u001b[38;5;124m'\u001b[39m\u001b[38;5;124minput\u001b[39m\u001b[38;5;124m'\u001b[39m)\n\u001b[1;32m      5\u001b[0m y1 \u001b[38;5;241m=\u001b[39m tf\u001b[38;5;241m.\u001b[39mlayers\u001b[38;5;241m.\u001b[39mdense(x, \u001b[38;5;241m10\u001b[39m, activation\u001b[38;5;241m=\u001b[39m\u001b[38;5;28;01mNone\u001b[39;00m, name\u001b[38;5;241m=\u001b[39m\u001b[38;5;124m'\u001b[39m\u001b[38;5;124moutput1\u001b[39m\u001b[38;5;124m'\u001b[39m)\n\u001b[1;32m      7\u001b[0m \u001b[38;5;66;03m# 定义 Saver 对象并保存模型参数\u001b[39;00m\n",
      "\u001b[0;31mAttributeError\u001b[0m: module 'tensorflow' has no attribute 'placeholder'"
     ]
    }
   ],
   "source": [
    "import tensorflow as tf\n",
    "\n",
    "# 定义原模型\n",
    "x = tf.placeholder(tf.float32, [None, 10], name='input')\n",
    "y1 = tf.layers.dense(x, 10, activation=None, name='output1')\n",
    "\n",
    "# 定义 Saver 对象并保存模型参数\n",
    "saver1 = tf.train.Saver()\n",
    "with tf.Session() as sess:\n",
    "    # ...训练模型...\n",
    "    sess.run(tf.trainable_variables())\n",
    "    saver1.save(sess, 'model1.ckpt')"
   ]
  },
  {
   "cell_type": "code",
   "execution_count": null,
   "id": "49a58d0d-4af1-4cd5-a57c-cfcdf6ba8610",
   "metadata": {},
   "outputs": [],
   "source": [
    "# 定义新的模型\n",
    "x = tf.placeholder(tf.float32, [None, 784], name='input')\n",
    "y2 = tf.layers.dense(x, 10, activation=None, name='output2')\n",
    "\n",
    "# 获取要迁移的参数列表\n",
    "var_list = [v for v in tf.trainable_variables() if v.name.startswith('output1')]\n",
    "\n",
    "# 定义 Saver 对象并加载模型参数\n",
    "saver2 = tf.train.Saver(var_list=var_list)\n",
    "with tf.Session() as sess:\n",
    "    saver2.restore(sess, 'model1.ckpt')\n",
    "\n",
    "    # 获取要赋值的变量列表\n",
    "    var_list2 = [v for v in tf.trainable_variables() if v.name.startswith('output2')]\n",
    "\n",
    "    # 赋值模型参数\n",
    "    for v1, v2 in zip(var_list, var_list2):\n",
    "        value = sess.run(v1)\n",
    "        sess.run(tf.assign(v2, value))\n",
    "\n",
    "    # 测试新模型\n",
    "    sess.run(tf.global_variables_initializer())\n",
    "    # ...测试新模型...\n"
   ]
  }
 ],
 "metadata": {
  "kernelspec": {
   "display_name": "Python 3 (ipykernel)",
   "language": "python",
   "name": "python3"
  },
  "language_info": {
   "codemirror_mode": {
    "name": "ipython",
    "version": 3
   },
   "file_extension": ".py",
   "mimetype": "text/x-python",
   "name": "python",
   "nbconvert_exporter": "python",
   "pygments_lexer": "ipython3",
   "version": "3.8.16"
  }
 },
 "nbformat": 4,
 "nbformat_minor": 5
}
