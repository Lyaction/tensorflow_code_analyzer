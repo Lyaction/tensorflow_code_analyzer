{
 "cells": [
  {
   "cell_type": "code",
   "execution_count": null,
   "id": "3946dcb3-607c-4919-9b5f-b0f2b46efc41",
   "metadata": {},
   "outputs": [],
   "source": [
    "import tensorflow as tf"
   ]
  },
  {
   "cell_type": "code",
   "execution_count": null,
   "id": "59c3b76d-3de5-4d48-a21f-59493bbf1b33",
   "metadata": {},
   "outputs": [],
   "source": [
    "tf.enable_eager_execution()"
   ]
  },
  {
   "cell_type": "code",
   "execution_count": null,
   "id": "572c93a9-383c-47f1-ba1b-993650e6ff9e",
   "metadata": {},
   "outputs": [],
   "source": []
  }
 ],
 "metadata": {
  "kernelspec": {
   "display_name": "Python 3",
   "language": "python",
   "name": "python3"
  },
  "language_info": {
   "name": ""
  }
 },
 "nbformat": 4,
 "nbformat_minor": 5
}
